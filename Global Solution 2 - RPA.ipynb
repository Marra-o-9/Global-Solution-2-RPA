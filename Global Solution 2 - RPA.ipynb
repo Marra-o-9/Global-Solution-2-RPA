{
 "cells": [
  {
   "cell_type": "markdown",
   "metadata": {},
   "source": [
    "# Global Solution 2 - RPA\n",
    "\n",
    "Integrantes:<br>\n",
    "- Henrique Marra Barbosa - RM97672\n",
    "- Arthur Hieda Cunha - RM551882\n",
    "- Lucas Bueno Taets Gustavo - RM552162"
   ]
  },
  {
   "cell_type": "markdown",
   "metadata": {},
   "source": [
    "### Imports"
   ]
  },
  {
   "cell_type": "code",
   "execution_count": 23,
   "metadata": {},
   "outputs": [],
   "source": [
    "import requests\n",
    "import sqlite3\n",
    "import pandas as pd\n",
    "from sklearn.linear_model import LinearRegression\n",
    "from sklearn.model_selection import train_test_split\n",
    "import matplotlib.pyplot as plt\n",
    "import time"
   ]
  },
  {
   "cell_type": "markdown",
   "metadata": {},
   "source": [
    "### Configurações"
   ]
  },
  {
   "cell_type": "code",
   "execution_count": 24,
   "metadata": {},
   "outputs": [],
   "source": [
    "# Configurações de APIs\n",
    "ENERGY_API_URL = \"https://api.eia.gov/v2/electricity/retail-sales/data/\"\n",
    "EIA_API_KEY = \"gEdTQHlS1PksCEtK9LC6mz1BwO7luKW5YdJ1Yppg\"\n",
    "OPENMETEO_API_URL = \"https://archive-api.open-meteo.com/v1/era5\"\n",
    "LATITUDE = 36.7783  # Latitude da Califórnia\n",
    "LONGITUDE = -119.4179  # Longitude da Califórnia\n",
    "\n",
    "# Banco de Dados SQLite\n",
    "DB_NAME = \"energia_sustentavel.db\""
   ]
  },
  {
   "cell_type": "markdown",
   "metadata": {},
   "source": [
    "### Coleta de Dados"
   ]
  },
  {
   "cell_type": "code",
   "execution_count": 25,
   "metadata": {},
   "outputs": [],
   "source": [
    "# Função para converter data para timestamp UNIX\n",
    "def convert_date_to_timestamp(date_str):\n",
    "    date_time_obj = time.strptime(date_str, \"%Y-%m-%d\")\n",
    "    return int(time.mktime(date_time_obj))\n",
    "\n",
    "# Função para buscar dados de energia\n",
    "def fetch_energy_data():\n",
    "    params = {\n",
    "        \"api_key\": EIA_API_KEY,\n",
    "        \"frequency\": \"monthly\",\n",
    "        \"data[0]\": \"price\",\n",
    "        \"facets[stateid][]\": \"CA\",\n",
    "        \"start\": \"2020-01\",  # Alterado para iniciar em 2020\n",
    "        \"end\": \"2023-12\",    # Alterado para terminar em 2024\n",
    "        \"sort[0][column]\": \"period\",\n",
    "        \"sort[0][direction]\": \"asc\"\n",
    "    }\n",
    "    response = requests.get(ENERGY_API_URL, params=params)\n",
    "    if response.status_code == 200:\n",
    "        return response.json()['response']['data']\n",
    "    else:\n",
    "        raise Exception(f\"Erro ao acessar a API da EIA: {response.status_code}\")\n",
    "\n",
    "# Função para buscar dados do clima usando Open-Meteo API\n",
    "def fetch_weather_data():\n",
    "    params = {\n",
    "        \"latitude\": LATITUDE,\n",
    "        \"longitude\": LONGITUDE,\n",
    "        \"start_date\": \"2020-01-01\",  # Alterado para iniciar em 2020\n",
    "        \"end_date\": \"2023-12-31\",    # Alterado para terminar em 2024\n",
    "        \"hourly\": \"temperature_2m\"   # Dados de temperatura a cada hora\n",
    "    }\n",
    "    \n",
    "    response = requests.get(OPENMETEO_API_URL, params=params)\n",
    "    if response.status_code == 200:\n",
    "        weather_data = response.json()\n",
    "        time_data = weather_data['hourly']['time']\n",
    "        temp_data = weather_data['hourly']['temperature_2m']\n",
    "        \n",
    "        # Formatar os dados em uma lista de dicionários\n",
    "        weather_list = [{\"date\": time_data[i], \"temp_c\": temp_data[i]} for i in range(len(time_data))]\n",
    "        return weather_list\n",
    "    else:\n",
    "        raise Exception(f\"Erro ao acessar a API do Open-Meteo: {response.status_code}\")"
   ]
  },
  {
   "cell_type": "markdown",
   "metadata": {},
   "source": [
    "### Tratamento de Dados"
   ]
  },
  {
   "cell_type": "code",
   "execution_count": 26,
   "metadata": {},
   "outputs": [],
   "source": [
    "# Função para processar dados\n",
    "def process_data(energy_data, weather_data):\n",
    "    # Dados de energia\n",
    "    energy_df = pd.DataFrame(energy_data)\n",
    "    energy_df['period'] = pd.to_datetime(energy_df['period'])\n",
    "    \n",
    "    # Convertendo a coluna 'price' para tipo numérico (float)\n",
    "    energy_df['price'] = pd.to_numeric(energy_df['price'], errors='coerce')\n",
    "    energy_df = energy_df[['period', 'price']].sort_values('period')\n",
    "    \n",
    "    # Dados de clima\n",
    "    weather_df = pd.DataFrame(weather_data)\n",
    "    weather_df['date'] = pd.to_datetime(weather_df['date'])\n",
    "    \n",
    "    # Convertendo a coluna 'temp_c' para tipo numérico (float)\n",
    "    weather_df['temp_c'] = pd.to_numeric(weather_df['temp_c'], errors='coerce')\n",
    "    weather_df = weather_df.sort_values('date')\n",
    "    \n",
    "    # Padronização e união dos dados\n",
    "    # Usando a função merge_asof para garantir o alinhamento temporal\n",
    "    merged_df = pd.merge_asof(energy_df, weather_df, left_on='period', right_on='date')\n",
    "    \n",
    "    # Verifique se há alguma falta de dados após a mesclagem\n",
    "    merged_df = merged_df.dropna()  # Remove linhas com dados faltantes\n",
    "\n",
    "    return merged_df"
   ]
  },
  {
   "cell_type": "markdown",
   "metadata": {},
   "source": [
    "### Armazenamento e Modelagem"
   ]
  },
  {
   "cell_type": "code",
   "execution_count": 27,
   "metadata": {},
   "outputs": [],
   "source": [
    "# Função para salvar dados\n",
    "def save_to_storage(dataframe):\n",
    "    # Exportar para CSV\n",
    "    dataframe.to_csv(\"energia_sustentavel.csv\", index=False)\n",
    "    \n",
    "    # Salvar no SQLite\n",
    "    conn = sqlite3.connect(DB_NAME)\n",
    "    dataframe.to_sql(\"consumo_energia\", conn, if_exists=\"replace\", index=False)\n",
    "    conn.close()\n",
    "\n",
    "# Função para treinar modelo\n",
    "def train_model(dataframe):\n",
    "    # Selecione as variáveis independentes (temperatura)\n",
    "    X = dataframe[['temp_c']]\n",
    "    \n",
    "    # Selecione a variável dependente (preço da energia)\n",
    "    y = dataframe['price']\n",
    "    \n",
    "    # Divisão dos dados em treinamento e teste\n",
    "    X_train, X_test, y_train, y_test = train_test_split(X, y, test_size=0.2, random_state=42)\n",
    "    \n",
    "    # Inicialize o modelo de regressão linear\n",
    "    model = LinearRegression()\n",
    "    \n",
    "    # Treinamento do modelo\n",
    "    model.fit(X_train, y_train)\n",
    "    \n",
    "    # Avaliação do modelo\n",
    "    score = model.score(X_test, y_test)\n",
    "    print(f\"Precisão do modelo: {score:.2f}\")\n",
    "    \n",
    "    return model\n",
    "\n",
    "# Função para plotar previsões\n",
    "def plot_predictions(model, dataframe):\n",
    "    plt.figure(figsize=(10, 6))\n",
    "    plt.scatter(dataframe['temp_c'], dataframe['price'], color='blue', label='Dados reais')\n",
    "    plt.plot(dataframe['temp_c'], model.predict(dataframe[['temp_c']]), color='red', label='Previsão')\n",
    "    plt.xlabel('Temperatura (°C)')\n",
    "    plt.ylabel('Preço da Energia')\n",
    "    plt.title('Previsão de Preço da Energia baseada na Temperatura')\n",
    "    plt.legend()\n",
    "    plt.savefig('previsao_energia.png')\n",
    "    plt.close()"
   ]
  },
  {
   "cell_type": "markdown",
   "metadata": {},
   "source": [
    "### Execução Principal"
   ]
  },
  {
   "cell_type": "code",
   "execution_count": 28,
   "metadata": {},
   "outputs": [
    {
     "name": "stdout",
     "output_type": "stream",
     "text": [
      "Precisão do modelo: -0.15\n",
      "Processo concluído com sucesso!\n"
     ]
    }
   ],
   "source": [
    "if __name__ == \"__main__\":\n",
    "    try:\n",
    "        # Coletar dados das fontes\n",
    "        energy_data = fetch_energy_data()\n",
    "        weather_data = fetch_weather_data()\n",
    "\n",
    "        # Processar os dados\n",
    "        processed_data = process_data(energy_data, weather_data)\n",
    "\n",
    "        # Armazenar os dados\n",
    "        save_to_storage(processed_data)\n",
    "\n",
    "        # Treinar modelo e fazer previsões\n",
    "        model = train_model(processed_data)\n",
    "        plot_predictions(model, processed_data)\n",
    "\n",
    "        print(\"Processo concluído com sucesso!\")\n",
    "    except Exception as e:\n",
    "        print(f\"Erro: {e}\")"
   ]
  }
 ],
 "metadata": {
  "kernelspec": {
   "display_name": "Python 3",
   "language": "python",
   "name": "python3"
  },
  "language_info": {
   "codemirror_mode": {
    "name": "ipython",
    "version": 3
   },
   "file_extension": ".py",
   "mimetype": "text/x-python",
   "name": "python",
   "nbconvert_exporter": "python",
   "pygments_lexer": "ipython3",
   "version": "3.11.2"
  }
 },
 "nbformat": 4,
 "nbformat_minor": 2
}
